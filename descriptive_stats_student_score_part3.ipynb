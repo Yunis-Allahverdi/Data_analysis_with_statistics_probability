{
 "cells": [
  {
   "cell_type": "markdown",
   "id": "9ea96756",
   "metadata": {},
   "source": [
    "# **Applying Descriptive Statistic to the Student-score data(Part 3)**"
   ]
  },
  {
   "cell_type": "code",
   "execution_count": 1,
   "id": "d7c444ad",
   "metadata": {},
   "outputs": [
    {
     "data": {
      "text/html": [
       "<div>\n",
       "<style scoped>\n",
       "    .dataframe tbody tr th:only-of-type {\n",
       "        vertical-align: middle;\n",
       "    }\n",
       "\n",
       "    .dataframe tbody tr th {\n",
       "        vertical-align: top;\n",
       "    }\n",
       "\n",
       "    .dataframe thead th {\n",
       "        text-align: right;\n",
       "    }\n",
       "</style>\n",
       "<table border=\"1\" class=\"dataframe\">\n",
       "  <thead>\n",
       "    <tr style=\"text-align: right;\">\n",
       "      <th></th>\n",
       "      <th>id</th>\n",
       "      <th>first_name</th>\n",
       "      <th>last_name</th>\n",
       "      <th>email</th>\n",
       "      <th>gender</th>\n",
       "      <th>part_time_job</th>\n",
       "      <th>absence_days</th>\n",
       "      <th>extracurricular_activities</th>\n",
       "      <th>weekly_self_study_hours</th>\n",
       "      <th>career_aspiration</th>\n",
       "      <th>math_score</th>\n",
       "      <th>history_score</th>\n",
       "      <th>physics_score</th>\n",
       "      <th>chemistry_score</th>\n",
       "      <th>biology_score</th>\n",
       "      <th>english_score</th>\n",
       "      <th>geography_score</th>\n",
       "    </tr>\n",
       "  </thead>\n",
       "  <tbody>\n",
       "    <tr>\n",
       "      <th>0</th>\n",
       "      <td>1</td>\n",
       "      <td>Paul</td>\n",
       "      <td>Casey</td>\n",
       "      <td>paul.casey.1@gslingacademy.com</td>\n",
       "      <td>male</td>\n",
       "      <td>False</td>\n",
       "      <td>3</td>\n",
       "      <td>False</td>\n",
       "      <td>27</td>\n",
       "      <td>Lawyer</td>\n",
       "      <td>73</td>\n",
       "      <td>81</td>\n",
       "      <td>93</td>\n",
       "      <td>97</td>\n",
       "      <td>63</td>\n",
       "      <td>80</td>\n",
       "      <td>87</td>\n",
       "    </tr>\n",
       "    <tr>\n",
       "      <th>1</th>\n",
       "      <td>2</td>\n",
       "      <td>Danielle</td>\n",
       "      <td>Sandoval</td>\n",
       "      <td>danielle.sandoval.2@gslingacademy.com</td>\n",
       "      <td>female</td>\n",
       "      <td>False</td>\n",
       "      <td>2</td>\n",
       "      <td>False</td>\n",
       "      <td>47</td>\n",
       "      <td>Doctor</td>\n",
       "      <td>90</td>\n",
       "      <td>86</td>\n",
       "      <td>96</td>\n",
       "      <td>100</td>\n",
       "      <td>90</td>\n",
       "      <td>88</td>\n",
       "      <td>90</td>\n",
       "    </tr>\n",
       "    <tr>\n",
       "      <th>2</th>\n",
       "      <td>3</td>\n",
       "      <td>Tina</td>\n",
       "      <td>Andrews</td>\n",
       "      <td>tina.andrews.3@gslingacademy.com</td>\n",
       "      <td>female</td>\n",
       "      <td>False</td>\n",
       "      <td>9</td>\n",
       "      <td>True</td>\n",
       "      <td>13</td>\n",
       "      <td>Government Officer</td>\n",
       "      <td>81</td>\n",
       "      <td>97</td>\n",
       "      <td>95</td>\n",
       "      <td>96</td>\n",
       "      <td>65</td>\n",
       "      <td>77</td>\n",
       "      <td>94</td>\n",
       "    </tr>\n",
       "    <tr>\n",
       "      <th>3</th>\n",
       "      <td>4</td>\n",
       "      <td>Tara</td>\n",
       "      <td>Clark</td>\n",
       "      <td>tara.clark.4@gslingacademy.com</td>\n",
       "      <td>female</td>\n",
       "      <td>False</td>\n",
       "      <td>5</td>\n",
       "      <td>False</td>\n",
       "      <td>3</td>\n",
       "      <td>Artist</td>\n",
       "      <td>71</td>\n",
       "      <td>74</td>\n",
       "      <td>88</td>\n",
       "      <td>80</td>\n",
       "      <td>89</td>\n",
       "      <td>63</td>\n",
       "      <td>86</td>\n",
       "    </tr>\n",
       "    <tr>\n",
       "      <th>4</th>\n",
       "      <td>5</td>\n",
       "      <td>Anthony</td>\n",
       "      <td>Campos</td>\n",
       "      <td>anthony.campos.5@gslingacademy.com</td>\n",
       "      <td>male</td>\n",
       "      <td>False</td>\n",
       "      <td>5</td>\n",
       "      <td>False</td>\n",
       "      <td>10</td>\n",
       "      <td>Unknown</td>\n",
       "      <td>84</td>\n",
       "      <td>77</td>\n",
       "      <td>65</td>\n",
       "      <td>65</td>\n",
       "      <td>80</td>\n",
       "      <td>74</td>\n",
       "      <td>76</td>\n",
       "    </tr>\n",
       "  </tbody>\n",
       "</table>\n",
       "</div>"
      ],
      "text/plain": [
       "   id first_name last_name                                  email  gender  \\\n",
       "0   1       Paul     Casey         paul.casey.1@gslingacademy.com    male   \n",
       "1   2   Danielle  Sandoval  danielle.sandoval.2@gslingacademy.com  female   \n",
       "2   3       Tina   Andrews       tina.andrews.3@gslingacademy.com  female   \n",
       "3   4       Tara     Clark         tara.clark.4@gslingacademy.com  female   \n",
       "4   5    Anthony    Campos     anthony.campos.5@gslingacademy.com    male   \n",
       "\n",
       "   part_time_job  absence_days  extracurricular_activities  \\\n",
       "0          False             3                       False   \n",
       "1          False             2                       False   \n",
       "2          False             9                        True   \n",
       "3          False             5                       False   \n",
       "4          False             5                       False   \n",
       "\n",
       "   weekly_self_study_hours   career_aspiration  math_score  history_score  \\\n",
       "0                       27              Lawyer          73             81   \n",
       "1                       47              Doctor          90             86   \n",
       "2                       13  Government Officer          81             97   \n",
       "3                        3              Artist          71             74   \n",
       "4                       10             Unknown          84             77   \n",
       "\n",
       "   physics_score  chemistry_score  biology_score  english_score  \\\n",
       "0             93               97             63             80   \n",
       "1             96              100             90             88   \n",
       "2             95               96             65             77   \n",
       "3             88               80             89             63   \n",
       "4             65               65             80             74   \n",
       "\n",
       "   geography_score  \n",
       "0               87  \n",
       "1               90  \n",
       "2               94  \n",
       "3               86  \n",
       "4               76  "
      ]
     },
     "execution_count": 1,
     "metadata": {},
     "output_type": "execute_result"
    }
   ],
   "source": [
    "import pandas as pd\n",
    "\n",
    "df = pd.read_csv('student-scores.csv')\n",
    "\n",
    "df.head(5)"
   ]
  },
  {
   "cell_type": "code",
   "execution_count": 2,
   "id": "d64951da",
   "metadata": {},
   "outputs": [],
   "source": [
    "cols_subjects = ['math_score', 'history_score', 'physics_score', 'chemistry_score','biology_score', 'english_score', 'geography_score']"
   ]
  },
  {
   "cell_type": "markdown",
   "id": "92c6e940",
   "metadata": {},
   "source": [
    "# Calculating the skewness of study_hours column and each subject"
   ]
  },
  {
   "cell_type": "code",
   "execution_count": 3,
   "id": "7dc91295",
   "metadata": {},
   "outputs": [
    {
     "name": "stdout",
     "output_type": "stream",
     "text": [
      "math_score: -1.0901448558957023\n",
      "history_score: -0.26996567357120627\n",
      "physics_score: -0.34630098656442554\n",
      "chemistry_score: -0.20193291402914731\n",
      "biology_score: -0.5299170963798959\n",
      "english_score: -0.45626773500058365\n",
      "geography_score: -0.09709399291140047\n",
      "self_study_hours: 0.1380651609202667\n"
     ]
    }
   ],
   "source": [
    "skew_study_hours = df['weekly_self_study_hours'].skew()\n",
    "skew_subject_scores = df[cols_subjects].skew().tolist()\n",
    "\n",
    "i=0\n",
    "for subject in cols_subjects:\n",
    "    print(f\"{cols_subjects[i]}: {skew_subject_scores[i]}\")\n",
    "    i+=1\n",
    "\n",
    "print(f\"self_study_hours: {skew_study_hours}\")"
   ]
  },
  {
   "cell_type": "markdown",
   "id": "189e806c",
   "metadata": {},
   "source": [
    "# Skewness interpretation:\n",
    "# > 1 or < -1 → highly skewed\n",
    "# Positive → long tail on right\n",
    "# Negative → long tail on left"
   ]
  },
  {
   "cell_type": "code",
   "execution_count": null,
   "id": "8046f673",
   "metadata": {},
   "outputs": [],
   "source": [
    "import matplotlib.pyplot as plt\n",
    "import seaborn as sns\n",
    "\n",
    "median, mode, mean = df['math_score'].median(), df['math_score'].mode().iloc[0], df['math_score'].mean()\n",
    "sns.histplot(df['math_score'], bins=20, color='blue', kde=True, edgecolor='white')\n",
    "plt.title('Skewness of data (Math score)')\n",
    "plt.xlabel('Values')\n",
    "plt.ylabel('Frequency')\n",
    "plt.axvline(median, color = 'green', linestyle = '-', label='median')\n",
    "plt.axvline(mode, color = 'red', linestyle = '-', label='mode')\n",
    "plt.axvline(mean, color = 'yellow', linestyle = '-', label='mean')\n",
    "plt.legend()\n",
    "plt.show()"
   ]
  },
  {
   "cell_type": "markdown",
   "id": "2dc830e0",
   "metadata": {},
   "source": [
    "# The less skewness is the geography score which means the data is symmetric than others"
   ]
  },
  {
   "cell_type": "code",
   "execution_count": null,
   "id": "2e7aa30f",
   "metadata": {},
   "outputs": [
    {
     "data": {
      "image/png": "[encoded data removed]",
      "text/plain": [
       "<Figure size 640x480 with 1 Axes>"
      ]
     },
     "metadata": {},
     "output_type": "display_data"
    }
   ],
   "source": [
    "median, mode, mean = df['geography_score'].median(), df['geography_score'].mode().iloc[0], df['geography_score'].mean()\n",
    "sns.histplot(df['geography_score'], bins=20, color='blue', kde=True, edgecolor='white')\n",
    "plt.title('Skewness of data (Geography score)')\n",
    "plt.xlabel('Values')\n",
    "plt.ylabel('Frequency')\n",
    "plt.axvline(median, color = 'green', linestyle = '-', label='median')\n",
    "plt.axvline(mode, color = 'red', linestyle = '-', label='mode')\n",
    "plt.axvline(mean, color = 'yellow', linestyle = '-', label='mean')\n",
    "plt.legend()\n",
    "plt.show()"
   ]
  },
  {
   "cell_type": "markdown",
   "id": "18368a4d",
   "metadata": {},
   "source": [
    "# Calculating the kurtosis tells us how peaked or flat your data distribution is"
   ]
  },
  {
   "cell_type": "code",
   "execution_count": null,
   "id": "5c1181b6",
   "metadata": {},
   "outputs": [
    {
     "name": "stdout",
     "output_type": "stream",
     "text": [
      "math_score: 0.8003975874200915\n",
      "history_score: -0.9934710749204241\n",
      "physics_score: -0.9217607715657041\n",
      "chemistry_score: -1.09579155374748\n",
      "biology_score: -0.05199923918702254\n",
      "english_score: -0.768893142142725\n",
      "geography_score: -1.1596011528471017\n",
      "self_study_hours: -1.070140656970628\n"
     ]
    }
   ],
   "source": [
    "kurt_study_hours = df['weekly_self_study_hours'].kurt()\n",
    "kurt_subject_scores = df[cols_subjects].kurt().tolist()\n",
    "\n",
    "i=0\n",
    "for subject in cols_subjects:\n",
    "    print(f\"{cols_subjects[i]}: {kurt_subject_scores[i]}\")\n",
    "    i+=1\n",
    "\n",
    "print(f\"self_study_hours: {kurt_study_hours}\")"
   ]
  }
 ],
 "metadata": {
  "kernelspec": {
   "display_name": "Python 3",
   "language": "python",
   "name": "python3"
  },
  "language_info": {
   "codemirror_mode": {
    "name": "ipython",
    "version": 3
   },
   "file_extension": ".py",
   "mimetype": "text/x-python",
   "name": "python",
   "nbconvert_exporter": "python",
   "pygments_lexer": "ipython3",
   "version": "3.12.4"
  }
 },
 "nbformat": 4,
 "nbformat_minor": 5
}
